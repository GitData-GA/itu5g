{
  "cells": [
    {
      "cell_type": "markdown",
      "metadata": {
        "id": "J_-nBdUpaHOl"
      },
      "source": [
        "# ITU 5G Energy Consumption Challenge - GitData\n",
        "\n",
        "<font color=\"red\">Please make a copy of this Jupyter Notebook to your own Google Drive or local machine before changing anything.</font>\n",
        "\n",
        "This Jupyter Notebook will also be updated regularly on GitHub: https://github.com/GitData-GA/itu5g/tree/main/code/ITU_5G_Energy_Consumption_Challenge.ipynb"
      ]
    },
    {
      "cell_type": "code",
      "execution_count": 1,
      "metadata": {
        "id": "RanUH8kkakh7"
      },
      "outputs": [],
      "source": [
        "# Import all libraries here\n",
        "import random\n",
        "random.seed(88)\n",
        "import pandas as pd\n",
        "import numpy as np\n",
        "np.random.seed(88)\n",
        "import tensorflow as tf\n",
        "tf.random.set_seed(88)\n",
        "from tensorflow import keras\n",
        "keras.utils.set_random_seed(88)\n",
        "from tensorflow.keras import layers\n",
        "from sklearn.model_selection import train_test_split\n",
        "from sklearn.preprocessing import StandardScaler, OneHotEncoder\n",
        "from tensorflow.keras.models import Sequential\n",
        "from tensorflow.keras.layers import LSTM, Dense, Dropout\n",
        "from tensorflow.keras.regularizers import l1, l2\n",
        "from sklearn.metrics import mean_absolute_percentage_error\n",
        "from matplotlib import pyplot as plt\n",
        "from keras import backend as K"
      ]
    },
    {
      "cell_type": "code",
      "execution_count": 2,
      "metadata": {
        "id": "kMYq5lciZ7ar"
      },
      "outputs": [],
      "source": [
        "# Output format\n",
        "# Description: The file contains days, hours, and base stations for which we\n",
        "# need energy consumption estimation and will be used for scoring predictions.\n",
        "power_pred = pd.read_csv('https://data.gd.edu.kg/bwz7t527/power_consumption_prediction.csv')\n",
        "# Dataset 1\n",
        "# Description: Energy consumption data (ECdata.csv): include hour-level energy\n",
        "# consumption specifications (e.g., total energy consumption of the base stations).\n",
        "ECdata = pd.read_csv('https://data.gd.edu.kg/bwz7t527/ECdata.csv')\n",
        "# Dataset 2\n",
        "# Description: Cell-level data (CLdata.csv): include hour-level counters,\n",
        "# including service compliance counters (e.g., load) and energy-saving methods\n",
        "# counters (e.g., duration of energy saving mode activation).\n",
        "CLdata = pd.read_csv('https://data.gd.edu.kg/bwz7t527/CLdata.csv')\n",
        "# Dataset 3\n",
        "# Description: Base Station basic information (BSinfo.csv): include\n",
        "# configuration parameters and hardware attributes\n",
        "BSinfo = pd.read_csv('https://data.gd.edu.kg/bwz7t527/BSinfo.csv')"
      ]
    },
    {
      "cell_type": "code",
      "execution_count": 3,
      "metadata": {
        "id": "7NzFWq45Hhf3"
      },
      "outputs": [],
      "source": [
        "data = ECdata.merge(CLdata, on=[\"Time\", \"BS\"], how=\"inner\")\n",
        "data = data.merge(BSinfo, on=\"BS\", how=\"inner\")\n",
        "data = data.sort_values(by='Time', ascending=True)\n",
        "# Convert date strings to datetime objects\n",
        "data['Time'] = pd.to_datetime(data['Time'])\n",
        "\n",
        "# Sort the dataset by date\n",
        "data.sort_values(by='Time', inplace=True)\n",
        "\n",
        "# Split Year, Month, Day, and Hour\n",
        "data['Year'] = data['Time'].dt.year\n",
        "data['Month'] = data['Time'].dt.month\n",
        "data['Day'] = data['Time'].dt.day\n",
        "data['Hour'] = data['Time'].dt.hour\n",
        "\n",
        "# Extract target variable 'Energy'\n",
        "y = data['Energy']\n",
        "\n",
        "# Drop unnecessary columns (e.g., 'Time', 'Energy')\n",
        "data.drop(columns=['Time', 'Energy'], inplace=True)\n",
        "\n",
        "# One-hot encode categorical features\n",
        "categorical_cols = ['BS', 'CellName_x', 'CellName_y', 'RUType', 'Mode', ]\n",
        "data_encoded = pd.get_dummies(data, columns=categorical_cols, drop_first=True)\n",
        "\n",
        "# Standardize numerical features\n",
        "scaler = StandardScaler()\n",
        "data_encoded[data_encoded.columns] = scaler.fit_transform(data_encoded[data_encoded.columns])\n",
        "\n",
        "# Split the dataset into training and testing sets (80% train, 20% test)\n",
        "X_train, X_test, y_train, y_test = train_test_split(data_encoded, y, test_size=0.2, shuffle=False)\n",
        "\n",
        "# Convert data to numpy arrays\n",
        "X_train = X_train.to_numpy()\n",
        "X_test = X_test.to_numpy()\n",
        "y_train = y_train.to_numpy()\n",
        "y_test = y_test.to_numpy()"
      ]
    },
    {
      "cell_type": "code",
      "execution_count": 14,
      "metadata": {
        "colab": {
          "base_uri": "https://localhost:8080/"
        },
        "id": "R0SdtnA8AveV",
        "outputId": "5de16b6f-b167-4915-fc67-1567c1c6e55b"
      },
      "outputs": [
        {
          "output_type": "stream",
          "name": "stdout",
          "text": [
            "Epoch 1/14\n",
            "315/315 [==============================] - 12s 21ms/step - loss: 41.5844 - val_loss: 11.2261\n",
            "Epoch 2/14\n",
            "315/315 [==============================] - 7s 23ms/step - loss: 13.2039 - val_loss: 8.0117\n",
            "Epoch 3/14\n",
            "315/315 [==============================] - 6s 20ms/step - loss: 11.4420 - val_loss: 7.2548\n",
            "Epoch 4/14\n",
            "315/315 [==============================] - 7s 23ms/step - loss: 10.5712 - val_loss: 6.7338\n",
            "Epoch 5/14\n",
            "315/315 [==============================] - 6s 19ms/step - loss: 9.8297 - val_loss: 6.4149\n",
            "Epoch 6/14\n",
            "315/315 [==============================] - 7s 23ms/step - loss: 9.2743 - val_loss: 6.3521\n",
            "Epoch 7/14\n",
            "315/315 [==============================] - 6s 20ms/step - loss: 8.9089 - val_loss: 6.1617\n",
            "Epoch 8/14\n",
            "315/315 [==============================] - 7s 24ms/step - loss: 8.6515 - val_loss: 6.1134\n",
            "Epoch 9/14\n",
            "315/315 [==============================] - 7s 22ms/step - loss: 8.3690 - val_loss: 6.0582\n",
            "Epoch 10/14\n",
            "315/315 [==============================] - 6s 20ms/step - loss: 8.1222 - val_loss: 5.9210\n",
            "Epoch 11/14\n",
            "315/315 [==============================] - 7s 24ms/step - loss: 7.9459 - val_loss: 5.8092\n",
            "Epoch 12/14\n",
            "315/315 [==============================] - 6s 20ms/step - loss: 7.7969 - val_loss: 5.8681\n",
            "Epoch 13/14\n",
            "315/315 [==============================] - 9s 27ms/step - loss: 7.6270 - val_loss: 5.7881\n",
            "Epoch 14/14\n",
            "315/315 [==============================] - 6s 20ms/step - loss: 7.5408 - val_loss: 5.7810\n",
            "786/786 [==============================] - 3s 3ms/step\n",
            "MAPE on test set: 0.07244%\n"
          ]
        }
      ],
      "source": [
        "X_train_lstm = X_train.reshape(X_train.shape[0], 1, X_train.shape[1])\n",
        "X_test_lstm = X_test.reshape(X_test.shape[0], 1, X_test.shape[1])\n",
        "lstm_model = keras.Sequential([\n",
        "    layers.LSTM(units=64, recurrent_dropout=0.25),\n",
        "    layers.Dropout(0.2),\n",
        "    layers.Dense(units=32, activation='relu', kernel_regularizer=l1(0.001)),\n",
        "    layers.Dense(units=1)\n",
        "])\n",
        "\n",
        "# Compile the model\n",
        "lstm_model.compile(optimizer='adam', loss='mean_absolute_percentage_error')\n",
        "\n",
        "# Train the model\n",
        "history = lstm_model.fit(X_train_lstm, y_train, epochs=14, batch_size=256, validation_split=0.2)\n",
        "\n",
        "# Fit model on validation set and get error\n",
        "y_pred = lstm_model.predict(X_test_lstm)\n",
        "mape = mean_absolute_percentage_error(y_test, y_pred)\n",
        "print(f'MAPE on test set: {mape:.5f}%')"
      ]
    },
    {
      "cell_type": "code",
      "source": [
        "model = keras.Sequential([\n",
        "    layers.Dense(units=64, activation='relu', kernel_regularizer=l1(0.001)),\n",
        "    layers.Dropout(0.2),\n",
        "    layers.Dense(units=32, activation='relu', kernel_regularizer=l1(0.001)),\n",
        "    layers.Dense(units=1)\n",
        "])\n",
        "\n",
        "# Compile the model\n",
        "model.compile(optimizer='adam', loss='mean_absolute_percentage_error')\n",
        "\n",
        "# Train the model\n",
        "history = model.fit(X_train, y_train, epochs=14, batch_size=256, validation_split=0.2)\n",
        "\n",
        "# Fit model on validation set and get error\n",
        "y_pred = model.predict(X_test)\n",
        "mape = mean_absolute_percentage_error(y_test, y_pred)\n",
        "print(f'MAPE on test set: {mape:.5f}%')"
      ],
      "metadata": {
        "colab": {
          "base_uri": "https://localhost:8080/"
        },
        "id": "grdsKiedqFMO",
        "outputId": "f11ba8da-2cf2-476b-d0f1-66d8223ec1ed"
      },
      "execution_count": 15,
      "outputs": [
        {
          "output_type": "stream",
          "name": "stdout",
          "text": [
            "Epoch 1/14\n",
            "315/315 [==============================] - 3s 8ms/step - loss: 36.1639 - val_loss: 12.5693\n",
            "Epoch 2/14\n",
            "315/315 [==============================] - 2s 7ms/step - loss: 15.8767 - val_loss: 10.9800\n",
            "Epoch 3/14\n",
            "315/315 [==============================] - 2s 7ms/step - loss: 14.6905 - val_loss: 10.6781\n",
            "Epoch 4/14\n",
            "315/315 [==============================] - 2s 7ms/step - loss: 13.8490 - val_loss: 9.7771\n",
            "Epoch 5/14\n",
            "315/315 [==============================] - 4s 11ms/step - loss: 12.8657 - val_loss: 9.3302\n",
            "Epoch 6/14\n",
            "315/315 [==============================] - 3s 8ms/step - loss: 11.9433 - val_loss: 8.9967\n",
            "Epoch 7/14\n",
            "315/315 [==============================] - 2s 7ms/step - loss: 11.4745 - val_loss: 8.8121\n",
            "Epoch 8/14\n",
            "315/315 [==============================] - 2s 7ms/step - loss: 11.0221 - val_loss: 8.5965\n",
            "Epoch 9/14\n",
            "315/315 [==============================] - 2s 7ms/step - loss: 10.6493 - val_loss: 8.4694\n",
            "Epoch 10/14\n",
            "315/315 [==============================] - 3s 10ms/step - loss: 10.4402 - val_loss: 8.3136\n",
            "Epoch 11/14\n",
            "315/315 [==============================] - 2s 7ms/step - loss: 10.2878 - val_loss: 8.2581\n",
            "Epoch 12/14\n",
            "315/315 [==============================] - 2s 7ms/step - loss: 10.1244 - val_loss: 8.1695\n",
            "Epoch 13/14\n",
            "315/315 [==============================] - 2s 7ms/step - loss: 10.0124 - val_loss: 8.1854\n",
            "Epoch 14/14\n",
            "315/315 [==============================] - 2s 7ms/step - loss: 9.9074 - val_loss: 8.0022\n",
            "786/786 [==============================] - 1s 2ms/step\n",
            "MAPE on test set: 0.06989%\n"
          ]
        }
      ]
    }
  ],
  "metadata": {
    "colab": {
      "provenance": []
    },
    "kernelspec": {
      "display_name": "Python 3",
      "name": "python3"
    },
    "language_info": {
      "name": "python"
    }
  },
  "nbformat": 4,
  "nbformat_minor": 0
}